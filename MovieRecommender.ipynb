{
  "nbformat": 4,
  "nbformat_minor": 0,
  "metadata": {
    "colab": {
      "name": "MovieRecommender.ipynb",
      "version": "0.3.2",
      "provenance": [],
      "include_colab_link": true
    },
    "kernelspec": {
      "name": "python2",
      "display_name": "Python 2"
    }
  },
  "cells": [
    {
      "cell_type": "markdown",
      "metadata": {
        "id": "view-in-github",
        "colab_type": "text"
      },
      "source": [
        "<a href=\"https://colab.research.google.com/github/shiv6146/recommendation_system/blob/master/MovieRecommender.ipynb\" target=\"_parent\"><img src=\"https://colab.research.google.com/assets/colab-badge.svg\" alt=\"Open In Colab\"/></a>"
      ]
    },
    {
      "metadata": {
        "id": "tdEPb1GnG3vD",
        "colab_type": "code",
        "colab": {
          "base_uri": "https://localhost:8080/",
          "height": 221
        },
        "cellView": "code",
        "outputId": "18433b50-eb4f-4c8e-e8a5-d5487a357692"
      },
      "cell_type": "code",
      "source": [
        "import pandas as pd\n",
        "import numpy as np\n",
        "from sklearn.feature_extraction.text import TfidfVectorizer\n",
        "from sklearn.metrics.pairwise import linear_kernel\n",
        "import warnings; warnings.simplefilter('ignore')\n",
        "\n",
        "# Lambda used to normalize a given movie title\n",
        "def normalize_title(title):\n",
        "    return ''.join(c for c in title if c.isalnum()).lower()\n",
        "\n",
        "# Read movies dataset\n",
        "movies = pd.read_csv('https://raw.githubusercontent.com/shiv6146/recommendation_system/master/links_small.csv')\n",
        "\n",
        "# Read movies metadata csv\n",
        "movies_metadata = pd.read_csv('https://raw.githubusercontent.com/shiv6146/recommendation_system/master/movies_metadata.csv', low_memory=False)\n",
        "\n",
        "# Create a sparse matrix with movie id and tmdbId\n",
        "movies = movies[movies['tmdbId'].notnull()]['tmdbId'].astype('int')\n",
        "\n",
        "# Filter out rows with inappropriate characters\n",
        "movies_metadata = movies_metadata.drop([19730, 29503, 35587])\n",
        "\n",
        "# Convert id column to int\n",
        "movies_metadata['id'] = movies_metadata['id'].astype('int')\n",
        "\n",
        "# Create a new data frame which is a subset of movies in movies_metadata.csv available in links_small.csv\n",
        "md_movies = movies_metadata[movies_metadata['id'].isin(movies)]\n",
        "\n",
        "# Filter and combine tagline and overview columns together into a new description column\n",
        "md_movies['tagline'] = md_movies['tagline'].fillna('')\n",
        "md_movies['overview'] = md_movies['overview'].fillna('')\n",
        "md_movies['description'] = md_movies['overview'] + md_movies['tagline']\n",
        "md_movies['description'] = md_movies['description'].fillna('')\n",
        "\n",
        "# We compute Term Frequency-Inverse Document Frequency (TF-IDF) vectors for each document.\n",
        "# This will give you a matrix where each column represents a word in the overview vocabulary \n",
        "# (all the words that appear in at least one document) and each column represents a movie\n",
        "tfidf = TfidfVectorizer(analyzer='word', ngram_range=(1, 2), min_df=0, stop_words='english')\n",
        "\n",
        "# TF-IDF score is the frequency of a word occurring in a document, down-weighted by the \n",
        "# number of documents in which it occurs\n",
        "tfidf_mat = tfidf.fit_transform(md_movies['description'])\n",
        "\n",
        "# Calculating the similarities can be done with cosine similarities\n",
        "# As we have tfidf_matrix already at hand we can use linear_kernel to directly compute dot product\n",
        "similarities = linear_kernel(tfidf_mat, tfidf_mat)\n",
        "\n",
        "# Add index column to provide continous indexing to new data frame (md_movies)\n",
        "md_movies = md_movies.reset_index()\n",
        "\n",
        "# Reverse index movie titles to movie id\n",
        "titles = md_movies['title'].copy()\n",
        "md_movies['title'] = md_movies['title'].apply(lambda x: normalize_title(x))\n",
        "indices = pd.Series(md_movies.index, index=md_movies['title'])\n",
        "\n",
        "# Takes in a movie title and returns a list of similar movies based on the movie description\n",
        "def get_recommendations(title):\n",
        "    title = normalize_title(title)\n",
        "    try:\n",
        "        idx = indices[title]\n",
        "        scores = list(enumerate(similarities[idx]))\n",
        "        scores = sorted(scores, key=lambda x: x[1], reverse=True)\n",
        "        # Getting top 10 movies with high similarity scores other than passed movie title itself\n",
        "        scores = scores[1:11]\n",
        "        top_indices = [x[0] for x in scores]\n",
        "        return titles.iloc[top_indices]\n",
        "    except Exception:\n",
        "        print \"Oops! I have not heard of that movie yet!\"\n",
        "        return\n",
        "\n",
        "recommended_movies = get_recommendations(raw_input(\"Enter a movie name: \"))\n",
        "if recommended_movies is not None:\n",
        "    print \"Recommended movies with similar plot:\"\n",
        "    for mov in recommended_movies:\n",
        "        print mov"
      ],
      "execution_count": 9,
      "outputs": [
        {
          "output_type": "stream",
          "text": [
            "Enter a movie name: django unchained\n",
            "Recommended movies with similar plot:\n",
            "One for the Money\n",
            "The Hunter\n",
            "My Fellow Americans\n",
            "Domino\n",
            "Trigun: Badlands Rumble\n",
            "In the Name of the King: A Dungeon Siege Tale\n",
            "Amistad\n",
            "Citizen Ruth\n",
            "Hot Shots! Part Deux\n",
            "Show Boat\n"
          ],
          "name": "stdout"
        }
      ]
    }
  ]
}